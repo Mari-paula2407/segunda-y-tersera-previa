{
  "nbformat": 4,
  "nbformat_minor": 0,
  "metadata": {
    "colab": {
      "name": "clase moto.ipynb",
      "provenance": [],
      "authorship_tag": "ABX9TyO+yf7SK2aC5mOkL+cViVo3",
      "include_colab_link": true
    },
    "kernelspec": {
      "name": "python3",
      "display_name": "Python 3"
    },
    "language_info": {
      "name": "python"
    }
  },
  "cells": [
    {
      "cell_type": "markdown",
      "metadata": {
        "id": "view-in-github",
        "colab_type": "text"
      },
      "source": [
        "<a href=\"https://colab.research.google.com/github/Mari-paula2407/segunda-y-tersera-previa/blob/main/clase_moto.ipynb\" target=\"_parent\"><img src=\"https://colab.research.google.com/assets/colab-badge.svg\" alt=\"Open In Colab\"/></a>"
      ]
    },
    {
      "cell_type": "code",
      "execution_count": 1,
      "metadata": {
        "id": "nSwHKo1i8IaN"
      },
      "outputs": [],
      "source": [
        "class Moto:\n",
        "  pass\n",
        "\n",
        "m=Moto()"
      ]
    },
    {
      "cell_type": "code",
      "source": [
        "class Moto:  \n",
        "  def __init__(self): \n",
        "    print(\"Constructor de objeto ejecutado\")\n",
        "\n",
        "a = Moto()"
      ],
      "metadata": {
        "colab": {
          "base_uri": "https://localhost:8080/"
        },
        "id": "UpdjmqJA80Ax",
        "outputId": "953a49b6-afe1-4dc8-befe-8fdf81ab3e52"
      },
      "execution_count": 2,
      "outputs": [
        {
          "output_type": "stream",
          "name": "stdout",
          "text": [
            "Constructor de objeto ejecutado\n"
          ]
        }
      ]
    },
    {
      "cell_type": "code",
      "source": [
        "class Moto:\n",
        "  def __init__(self, empresa, modelo, color): \n",
        "    self.empresa = empresa\n",
        "    self.modelo = modelo\n",
        "    self.color = color\n",
        "\n",
        "m = Moto(\"suzuki\", \"vivar 115\", \"morado\")"
      ],
      "metadata": {
        "id": "RvU6NuLC879X"
      },
      "execution_count": 15,
      "outputs": []
    },
    {
      "cell_type": "code",
      "source": [
        "class Moto:\n",
        "  def __init__(self, empresa, modelo, color): \n",
        "    self.empresa = empresa\n",
        "    self.modelo = modelo\n",
        "    self.color = color\n",
        "  def arrancar(self):\n",
        "    print(\"ruun\")\n",
        "\n",
        "m = Moto(\"suzuki\", \"vivar 115\", \"morado\")\n",
        "m.arrancar()"
      ],
      "metadata": {
        "colab": {
          "base_uri": "https://localhost:8080/"
        },
        "id": "O2Hx12Ev9ahg",
        "outputId": "86ac17f5-4734-41df-d811-0e47b92a1c64"
      },
      "execution_count": 17,
      "outputs": [
        {
          "output_type": "stream",
          "name": "stdout",
          "text": [
            "ruun\n"
          ]
        }
      ]
    },
    {
      "cell_type": "code",
      "source": [
        "class Moto:\n",
        "  def __init__(self, empresa,modelo,color): \n",
        "    self.empresa = empresa\n",
        "    self.modelo = modelo\n",
        "    self.color= color\n",
        "  def arrancar (self):\n",
        "    print(\"ruun\")\n",
        "  def get_empresa(self): \n",
        "    print(self.empresa)\n",
        "\n",
        "m = Moto(\"suzuki\", \"vivar 115\", \"morado\")\n",
        "m.arrancar()\n",
        "m.get_empresa()"
      ],
      "metadata": {
        "colab": {
          "base_uri": "https://localhost:8080/"
        },
        "id": "izqrGg5xFJAi",
        "outputId": "6ed0c71d-d9f4-49db-ccf5-ffb719172e0a"
      },
      "execution_count": 19,
      "outputs": [
        {
          "output_type": "stream",
          "name": "stdout",
          "text": [
            "ruun\n",
            "suzuki\n"
          ]
        }
      ]
    },
    {
      "cell_type": "code",
      "source": [
        ""
      ],
      "metadata": {
        "id": "QsbpxSxQGfe1"
      },
      "execution_count": null,
      "outputs": []
    },
    {
      "cell_type": "code",
      "metadata": {
        "colab": {
          "base_uri": "https://localhost:8080/"
        },
        "id": "Ts7WeCvXPZoy",
        "outputId": "88d806b3-fcc1-4333-c746-33063b9b83bf"
      },
      "source": [
        "class Moto:\n",
        "  def __init__(self, empresa, modelo, color): \n",
        "    self.empresa = empresa\n",
        "    self.modelo = modelo\n",
        "    self.color = color\n",
        "  def arrancar (self):\n",
        "    print(\"ruun\")\n",
        "  def get_empresa(self): \n",
        "    print(self.empresa)\n",
        "  def get_modelo(self): \n",
        "    print(self.modelo)\n",
        "  def get_color(self):\n",
        "    print(self.color)\n",
        "\n",
        "m = Moto(\"suzuki\", \"vivar 115\", \"morado\")\n",
        "m.arrancar ()\n",
        "m.get_empresa()\n",
        "m.get_modelo()\n",
        "m.get_color()"
      ],
      "execution_count": 21,
      "outputs": [
        {
          "output_type": "stream",
          "name": "stdout",
          "text": [
            "ruun\n",
            "suzuki\n",
            "vivar 115\n",
            "morado\n"
          ]
        }
      ]
    }
  ]
}