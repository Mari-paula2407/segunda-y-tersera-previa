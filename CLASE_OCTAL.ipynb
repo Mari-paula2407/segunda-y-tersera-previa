{
  "nbformat": 4,
  "nbformat_minor": 0,
  "metadata": {
    "colab": {
      "name": "CLASE OCTAL",
      "provenance": [],
      "collapsed_sections": [],
      "authorship_tag": "ABX9TyNr6fy7Jk0AE8Fw9tPaE0WF",
      "include_colab_link": true
    },
    "kernelspec": {
      "name": "python3",
      "display_name": "Python 3"
    },
    "language_info": {
      "name": "python"
    }
  },
  "cells": [
    {
      "cell_type": "markdown",
      "metadata": {
        "id": "view-in-github",
        "colab_type": "text"
      },
      "source": [
        "<a href=\"https://colab.research.google.com/github/Mari-paula2407/segunda-y-tersera-previa/blob/main/CLASE_OCTAL.ipynb\" target=\"_parent\"><img src=\"https://colab.research.google.com/assets/colab-badge.svg\" alt=\"Open In Colab\"/></a>"
      ]
    },
    {
      "cell_type": "code",
      "metadata": {
        "id": "IVBJlLIaZbhE"
      },
      "source": [
        "# 1. Crear la clase Octal\n",
        "#    Esta clase maneja los números cuyos dígitos van desde 0 hasta 7\n",
        "#    La base es 8\n",
        "#    Los números de tipo Octal solamente pueden tener los dígitos:\n",
        "#    0, 1, 2, 3, 4, 5, 6, 7\n",
        "\n",
        "class Octal:\n",
        "  pass\n",
        "\n",
        "a = Octal()"
      ],
      "execution_count": null,
      "outputs": []
    },
    {
      "cell_type": "code",
      "metadata": {
        "colab": {
          "base_uri": "https://localhost:8080/"
        },
        "id": "k5y1AzAkaLnu",
        "outputId": "06a56b4c-2b4e-40d3-ffa1-36948897536a"
      },
      "source": [
        "# 2. Crear un constructor con un mensaje\n",
        "\n",
        "class Octal:\n",
        "  def __init__ (self):\n",
        "    print(\"Este es el constructor\")\n",
        "\n",
        "a = Octal()"
      ],
      "execution_count": null,
      "outputs": [
        {
          "output_type": "stream",
          "name": "stdout",
          "text": [
            "Este es el constructor\n"
          ]
        }
      ]
    },
    {
      "cell_type": "code",
      "metadata": {
        "colab": {
          "base_uri": "https://localhost:8080/"
        },
        "id": "ActdfwsLaupJ",
        "outputId": "086f49ef-7cc1-41fb-b981-d9f35a4cf18a"
      },
      "source": [
        "# 3. Modificar el constructor para que reciba el número en Octal\n",
        "\n",
        "class Octal:\n",
        "  def __init__ (self, dato):\n",
        "    self.dato = dato\n",
        "\n",
        "a = Octal(\"240704\")\n",
        "print ( a.dato )"
      ],
      "execution_count": 1,
      "outputs": [
        {
          "output_type": "stream",
          "name": "stdout",
          "text": [
            "240704\n"
          ]
        }
      ]
    },
    {
      "cell_type": "code",
      "metadata": {
        "colab": {
          "base_uri": "https://localhost:8080/"
        },
        "id": "vVCJb7W1bY-M",
        "outputId": "f86498e8-d970-40bd-809f-e7b270c2a12f"
      },
      "source": [
        "# 4. Crear un método (función) para mostrar el contenido del objeto\n",
        "\n",
        "class Octal:\n",
        "  def __init__ (self, dato):\n",
        "    self.dato = dato\n",
        "  def string( self ):\n",
        "    print(self.dato)\n",
        "\n",
        "a = Octal(\"240704\")\n",
        "a.string()"
      ],
      "execution_count": null,
      "outputs": [
        {
          "output_type": "stream",
          "name": "stdout",
          "text": [
            "240704\n"
          ]
        }
      ]
    },
    {
      "cell_type": "code",
      "metadata": {
        "colab": {
          "base_uri": "https://localhost:8080/"
        },
        "id": "UkO1ntcUc4kF",
        "outputId": "40c69f6a-5c92-4219-f38f-0c3dc923071e"
      },
      "source": [
        "# 5. Convertir la cadena que almacena el Octal, en una lista de strings ('')\n",
        "\n",
        "class Octal:\n",
        "  lista_octal = []\n",
        "\n",
        "  def __init__ ( self, cadena_octal ):\n",
        "    self.cadena_octal = cadena_octal\n",
        "    self.lista_octal = list( self.cadena_octal )\n",
        "  def string( self ):\n",
        "    print( self.cadena_octal )\n",
        "    print( self.lista_octal )\n",
        "\n",
        "a = Octal( \"240704\" )\n",
        "a.string()"
      ],
      "execution_count": null,
      "outputs": [
        {
          "output_type": "stream",
          "name": "stdout",
          "text": [
            "240704\n",
            "['2', '4', '0', '7', '0', '4']\n"
          ]
        }
      ]
    },
    {
      "cell_type": "code",
      "metadata": {
        "colab": {
          "base_uri": "https://localhost:8080/"
        },
        "id": "ZKn5E6q5k5LW",
        "outputId": "2fe62146-f025-41d4-c1d7-132fc3d83d46"
      },
      "source": [
        "# 6. Convertir la lista de strings en una lista de enteros\n",
        "\n",
        "class Octal:\n",
        "  lista_octal = []\n",
        "\n",
        "  def __init__ ( self, cadena_octal ):\n",
        "    self.cadena_octal = cadena_octal\n",
        "    self.lista_octal = list( self.cadena_octal )\n",
        "\n",
        "    i = 0\n",
        "    for dato in self.lista_octal:\n",
        "      self.lista_octal[i] = int(dato)\n",
        "      i = i + 1\n",
        "\n",
        "  def string( self ):\n",
        "    print( self.cadena_octal )\n",
        "    print( self.lista_octal )\n",
        "\n",
        "a = Octal( \"240704\" )\n",
        "a.string()"
      ],
      "execution_count": null,
      "outputs": [
        {
          "output_type": "stream",
          "name": "stdout",
          "text": [
            "240704\n",
            "[2, 4, 0, 7, 0, 4]\n"
          ]
        }
      ]
    },
    {
      "cell_type": "code",
      "metadata": {
        "colab": {
          "base_uri": "https://localhost:8080/"
        },
        "id": "6ho1kOY2o0vD",
        "outputId": "a38dfe87-33cf-4337-d94c-32d6f7f3ab45"
      },
      "source": [
        "# 7. Invertir la lista para que coincida con los octales en metamáticas\n",
        "\n",
        "class Octal:\n",
        "  lista_octal = []\n",
        "\n",
        "  def __init__ ( self, cadena_octal ):\n",
        "    self.cadena_octal = cadena_octal\n",
        "    self.lista_octal = list( self.cadena_octal )\n",
        "\n",
        "    i = 0\n",
        "    for dato in self.lista_octal:\n",
        "      self.lista_octal[i] = int(dato)\n",
        "      i = i + 1\n",
        "\n",
        "    self.lista_octal = list(reversed(self.lista_octal))\n",
        "\n",
        "  def string( self ):\n",
        "    print( self.cadena_octal )\n",
        "    print( self.lista_octal )\n",
        "\n",
        "a = Octal( \"240704\" )\n",
        "a.string()"
      ],
      "execution_count": null,
      "outputs": [
        {
          "output_type": "stream",
          "name": "stdout",
          "text": [
            "240704\n",
            "[4, 0, 7, 0, 4, 2]\n"
          ]
        }
      ]
    },
    {
      "cell_type": "code",
      "metadata": {
        "colab": {
          "base_uri": "https://localhost:8080/"
        },
        "id": "gphQjkMVoLDx",
        "outputId": "fa79a21a-ba95-4deb-ac0d-5a460eafb4cd"
      },
      "source": [
        "# 8. Crear una función para encontrar el valor decimal del octal\n",
        "\n",
        "class Octal:\n",
        "  base = 8\n",
        "  lista_octal = []\n",
        "\n",
        "  def __init__ ( self, cadena_octal ):\n",
        "    self.cadena_octal = cadena_octal\n",
        "    self.lista_octal = list( self.cadena_octal )\n",
        "\n",
        "    i = 0\n",
        "    for dato in self.lista_octal:\n",
        "      self.lista_octal[i] = int(dato)\n",
        "      i = i + 1\n",
        "\n",
        "    self.lista_octal = list(reversed(self.lista_octal))\n",
        "\n",
        "  def decimal( self ):\n",
        "    numero_decimal = 0\n",
        "    i = 0\n",
        "    for dato in self.lista_octal:\n",
        "      numero_decimal += self.base**i * self.lista_octal[i]\n",
        "      i = i + 1\n",
        "    return numero_decimal\n",
        "\n",
        "  def string( self ):\n",
        "    print( self.cadena_octal )\n",
        "    print( self.lista_octal )\n",
        "\n",
        "a = Octal( \"240704\" )\n",
        "a.string()\n",
        "print( a.decimal() )"
      ],
      "execution_count": null,
      "outputs": [
        {
          "output_type": "stream",
          "name": "stdout",
          "text": [
            "240704\n",
            "[4, 0, 7, 0, 4, 2]\n",
            "82372\n"
          ]
        }
      ]
    }
  ]
}