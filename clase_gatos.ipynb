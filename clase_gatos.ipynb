{
  "nbformat": 4,
  "nbformat_minor": 0,
  "metadata": {
    "colab": {
      "name": "clase gatos.ipynb",
      "provenance": [],
      "authorship_tag": "ABX9TyPtKZ3tKZxoHIee2iJIECsU",
      "include_colab_link": true
    },
    "kernelspec": {
      "name": "python3",
      "display_name": "Python 3"
    },
    "language_info": {
      "name": "python"
    }
  },
  "cells": [
    {
      "cell_type": "markdown",
      "metadata": {
        "id": "view-in-github",
        "colab_type": "text"
      },
      "source": [
        "<a href=\"https://colab.research.google.com/github/Mari-paula2407/segunda-y-tersera-previa/blob/main/clase_gatos.ipynb\" target=\"_parent\"><img src=\"https://colab.research.google.com/assets/colab-badge.svg\" alt=\"Open In Colab\"/></a>"
      ]
    },
    {
      "cell_type": "code",
      "execution_count": null,
      "metadata": {
        "id": "nSwHKo1i8IaN"
      },
      "outputs": [],
      "source": [
        "class Gato:\n",
        "  pass\n",
        "\n",
        "g=Gato()"
      ]
    },
    {
      "cell_type": "code",
      "source": [
        "class Gato:  \n",
        "  def __init__(self): \n",
        "    print(\"Constructor de objeto ejecutado\")\n",
        "\n",
        "a = Gato()"
      ],
      "metadata": {
        "colab": {
          "base_uri": "https://localhost:8080/"
        },
        "id": "UpdjmqJA80Ax",
        "outputId": "6ab87161-7dc8-4855-d48d-9cf2adec6bd8"
      },
      "execution_count": null,
      "outputs": [
        {
          "output_type": "stream",
          "name": "stdout",
          "text": [
            "Constructor de objeto ejecutado\n"
          ]
        }
      ]
    },
    {
      "cell_type": "code",
      "source": [
        "class Gato:\n",
        "  def __init__(self, raza, nombre, edad): \n",
        "    self.raza = raza\n",
        "    self.nombre = nombre\n",
        "    self.edad = edad\n",
        "\n",
        "p = Gato(\"Persa\", \"Motas\", 5)"
      ],
      "metadata": {
        "id": "RvU6NuLC879X"
      },
      "execution_count": null,
      "outputs": []
    },
    {
      "cell_type": "code",
      "source": [
        "class Gato:\n",
        "  def __init__(self, raza, nombre, edad): \n",
        "    self.raza = raza\n",
        "    self.nombre = nombre\n",
        "    self.edad = edad\n",
        "  def maulla(self):\n",
        "    print(\"miau\")\n",
        "\n",
        "p = Gato(\"Persa\", \"Motas\", 5)\n",
        "p.maulla()"
      ],
      "metadata": {
        "colab": {
          "base_uri": "https://localhost:8080/"
        },
        "id": "O2Hx12Ev9ahg",
        "outputId": "add1a0b3-23e5-4668-ce56-2bca0d82fc1a"
      },
      "execution_count": null,
      "outputs": [
        {
          "output_type": "stream",
          "name": "stdout",
          "text": [
            "miau\n"
          ]
        }
      ]
    },
    {
      "cell_type": "code",
      "metadata": {
        "colab": {
          "base_uri": "https://localhost:8080/"
        },
        "id": "Ysg1SnQGOiM4",
        "outputId": "a6bb4f4d-62ac-4d3d-b5f9-03bc7e0f381c"
      },
      "source": [
        "class Gato:\n",
        "  def __init__(self, raza, nombre, edad): \n",
        "    self.raza = raza\n",
        "    self.nombre = nombre\n",
        "    self.edad = edad\n",
        "  def maulla (self):\n",
        "    print(\"miau\")\n",
        "  def get_raza(self): \n",
        "    print(self.raza)\n",
        "\n",
        "p = Gato(\"Persa\", \"motas\", 5)\n",
        "p.maulla()\n",
        "p.get_raza()"
      ],
      "execution_count": null,
      "outputs": [
        {
          "output_type": "stream",
          "name": "stdout",
          "text": [
            "miau\n",
            "Persa\n"
          ]
        }
      ]
    },
    {
      "cell_type": "code",
      "metadata": {
        "colab": {
          "base_uri": "https://localhost:8080/"
        },
        "id": "Ts7WeCvXPZoy",
        "outputId": "3ebe46b1-6b79-48d2-ba93-31c3481f718c"
      },
      "source": [
        "class Gato:\n",
        "  def __init__(self, raza, nombre, edad): \n",
        "    self.raza = raza\n",
        "    self.nombre = nombre\n",
        "    self.edad = edad\n",
        "  def maulla (self):\n",
        "    print(\"miau\")\n",
        "  def get_raza(self): \n",
        "    print(self.raza)\n",
        "  def get_nombre(self): \n",
        "    print(self.nombre)\n",
        "  def get_edad(self):\n",
        "    print(self.edad)\n",
        "\n",
        "p = Gato(\"Persa\", \"motas\", 5)\n",
        "p.maulla ()\n",
        "p.get_raza()\n",
        "p.get_nombre()\n",
        "p.get_edad()"
      ],
      "execution_count": null,
      "outputs": [
        {
          "output_type": "stream",
          "name": "stdout",
          "text": [
            "miau\n",
            "Persa\n",
            "motas\n",
            "5\n"
          ]
        }
      ]
    },
    {
      "cell_type": "code",
      "metadata": {
        "colab": {
          "base_uri": "https://localhost:8080/"
        },
        "id": "iELs1H03QCok",
        "outputId": "d2ec8758-e6a7-4358-a1df-24608eb9d83e"
      },
      "source": [
        "class Gato:\n",
        "  numero_patas = 4  \n",
        "  def __init__(self, raza, nombre, edad): \n",
        "    self.raza = raza\n",
        "    self.nombre = nombre\n",
        "    self.edad = edad\n",
        "  def maulla(self):\n",
        "    print(\"miau\")\n",
        "  def get_raza(self): \n",
        "    print(self.raza)\n",
        "  def get_nombre(self):\n",
        "    print(self.nombre)\n",
        "  def get_edad(self): \n",
        "    print(self.edad)\n",
        "\n",
        "p = Gato(\"Persa\", \"motas\", 5)\n",
        "p.maulla()\n",
        "p.get_raza()\n",
        "p.get_nombre()\n",
        "p.get_edad()\n",
        "\n",
        "print(\"Número de patas del gato =\", p.numero_patas)"
      ],
      "execution_count": null,
      "outputs": [
        {
          "output_type": "stream",
          "name": "stdout",
          "text": [
            "miau\n",
            "Persa\n",
            "motas\n",
            "5\n",
            "Número de patas del gato = 4\n"
          ]
        }
      ]
    },
    {
      "cell_type": "code",
      "metadata": {
        "colab": {
          "base_uri": "https://localhost:8080/"
        },
        "id": "3qH8C_6QQ-SU",
        "outputId": "c84ea765-dc55-4ff9-b498-85bf7ff41a94"
      },
      "source": [
        "\n",
        "class Gato:\n",
        "  numero_patas = 4  \n",
        "  def __init__(self, raza, nombre, edad): \n",
        "    self.raza = raza\n",
        "    self.nombre = nombre\n",
        "    self.edad = edad\n",
        "  def maulla(self):\n",
        "    print(\"El gato está atento: miau !!!\")\n",
        "  def get_raza(self): \n",
        "    print(\"La raza del gato es =\", self.raza)\n",
        "  def get_nombre(self): \n",
        "    print(\"El nombre del gato es =\", self.nombre)\n",
        "  def get_edad(self): \n",
        "    print(\"La edad del gato es =\", self.edad)\n",
        "\n",
        "p = Gato(\"Persa\", \"motas\", 5)\n",
        "p.maulla()\n",
        "p.get_raza()\n",
        "p.get_nombre()\n",
        "p.get_edad()\n",
        "\n",
        "print(\"Número de patas del gato =\", p.numero_patas)"
      ],
      "execution_count": null,
      "outputs": [
        {
          "output_type": "stream",
          "name": "stdout",
          "text": [
            "El gato está atento: miau !!!\n",
            "La raza del gato es = Persa\n",
            "El nombre del gato es = motas\n",
            "La edad del gato es = 5\n",
            "Número de patas del gato = 4\n"
          ]
        }
      ]
    }
  ]
}